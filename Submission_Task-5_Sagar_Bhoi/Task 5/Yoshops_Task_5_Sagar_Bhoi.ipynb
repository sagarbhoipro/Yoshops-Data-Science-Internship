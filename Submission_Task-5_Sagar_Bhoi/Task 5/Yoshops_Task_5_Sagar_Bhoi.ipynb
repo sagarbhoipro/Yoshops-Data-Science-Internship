{
 "cells": [
  {
   "cell_type": "markdown",
   "id": "b122b881",
   "metadata": {},
   "source": [
    "## Task : 5 Author:- Sagar Bhoi \n",
    "\n",
    "### 1. Write a python program for merge two excel file data to one file"
   ]
  },
  {
   "cell_type": "code",
   "execution_count": 1,
   "id": "09962202",
   "metadata": {},
   "outputs": [],
   "source": [
    "import pandas as pd"
   ]
  },
  {
   "cell_type": "code",
   "execution_count": 2,
   "id": "9b693656",
   "metadata": {},
   "outputs": [
    {
     "ename": "FileNotFoundError",
     "evalue": "[Errno 2] No such file or directory: 'Kalyani_Balance_Sheet_November_2022.xlsx'",
     "output_type": "error",
     "traceback": [
      "\u001b[1;31m---------------------------------------------------------------------------\u001b[0m",
      "\u001b[1;31mFileNotFoundError\u001b[0m                         Traceback (most recent call last)",
      "Cell \u001b[1;32mIn[2], line 2\u001b[0m\n\u001b[0;32m      1\u001b[0m \u001b[38;5;66;03m#loading datasets\u001b[39;00m\n\u001b[1;32m----> 2\u001b[0m df_1 \u001b[38;5;241m=\u001b[39m \u001b[43mpd\u001b[49m\u001b[38;5;241;43m.\u001b[39;49m\u001b[43mread_excel\u001b[49m\u001b[43m(\u001b[49m\u001b[38;5;124;43m\"\u001b[39;49m\u001b[38;5;124;43mKalyani_Balance_Sheet_November_2022.xlsx\u001b[39;49m\u001b[38;5;124;43m\"\u001b[39;49m\u001b[43m)\u001b[49m\n\u001b[0;32m      3\u001b[0m df_2 \u001b[38;5;241m=\u001b[39m pd\u001b[38;5;241m.\u001b[39mread_excel(\u001b[38;5;124m\"\u001b[39m\u001b[38;5;124mKalyani_Balance_Sheet_December_2022.xlsx\u001b[39m\u001b[38;5;124m\"\u001b[39m)\n\u001b[0;32m      5\u001b[0m \u001b[38;5;66;03m#merge datasets\u001b[39;00m\n",
      "File \u001b[1;32mE:\\python\\lib\\site-packages\\pandas\\util\\_decorators.py:211\u001b[0m, in \u001b[0;36mdeprecate_kwarg.<locals>._deprecate_kwarg.<locals>.wrapper\u001b[1;34m(*args, **kwargs)\u001b[0m\n\u001b[0;32m    209\u001b[0m     \u001b[38;5;28;01melse\u001b[39;00m:\n\u001b[0;32m    210\u001b[0m         kwargs[new_arg_name] \u001b[38;5;241m=\u001b[39m new_arg_value\n\u001b[1;32m--> 211\u001b[0m \u001b[38;5;28;01mreturn\u001b[39;00m func(\u001b[38;5;241m*\u001b[39margs, \u001b[38;5;241m*\u001b[39m\u001b[38;5;241m*\u001b[39mkwargs)\n",
      "File \u001b[1;32mE:\\python\\lib\\site-packages\\pandas\\util\\_decorators.py:331\u001b[0m, in \u001b[0;36mdeprecate_nonkeyword_arguments.<locals>.decorate.<locals>.wrapper\u001b[1;34m(*args, **kwargs)\u001b[0m\n\u001b[0;32m    325\u001b[0m \u001b[38;5;28;01mif\u001b[39;00m \u001b[38;5;28mlen\u001b[39m(args) \u001b[38;5;241m>\u001b[39m num_allow_args:\n\u001b[0;32m    326\u001b[0m     warnings\u001b[38;5;241m.\u001b[39mwarn(\n\u001b[0;32m    327\u001b[0m         msg\u001b[38;5;241m.\u001b[39mformat(arguments\u001b[38;5;241m=\u001b[39m_format_argument_list(allow_args)),\n\u001b[0;32m    328\u001b[0m         \u001b[38;5;167;01mFutureWarning\u001b[39;00m,\n\u001b[0;32m    329\u001b[0m         stacklevel\u001b[38;5;241m=\u001b[39mfind_stack_level(),\n\u001b[0;32m    330\u001b[0m     )\n\u001b[1;32m--> 331\u001b[0m \u001b[38;5;28;01mreturn\u001b[39;00m func(\u001b[38;5;241m*\u001b[39margs, \u001b[38;5;241m*\u001b[39m\u001b[38;5;241m*\u001b[39mkwargs)\n",
      "File \u001b[1;32mE:\\python\\lib\\site-packages\\pandas\\io\\excel\\_base.py:482\u001b[0m, in \u001b[0;36mread_excel\u001b[1;34m(io, sheet_name, header, names, index_col, usecols, squeeze, dtype, engine, converters, true_values, false_values, skiprows, nrows, na_values, keep_default_na, na_filter, verbose, parse_dates, date_parser, thousands, decimal, comment, skipfooter, convert_float, mangle_dupe_cols, storage_options)\u001b[0m\n\u001b[0;32m    480\u001b[0m \u001b[38;5;28;01mif\u001b[39;00m \u001b[38;5;129;01mnot\u001b[39;00m \u001b[38;5;28misinstance\u001b[39m(io, ExcelFile):\n\u001b[0;32m    481\u001b[0m     should_close \u001b[38;5;241m=\u001b[39m \u001b[38;5;28;01mTrue\u001b[39;00m\n\u001b[1;32m--> 482\u001b[0m     io \u001b[38;5;241m=\u001b[39m \u001b[43mExcelFile\u001b[49m\u001b[43m(\u001b[49m\u001b[43mio\u001b[49m\u001b[43m,\u001b[49m\u001b[43m \u001b[49m\u001b[43mstorage_options\u001b[49m\u001b[38;5;241;43m=\u001b[39;49m\u001b[43mstorage_options\u001b[49m\u001b[43m,\u001b[49m\u001b[43m \u001b[49m\u001b[43mengine\u001b[49m\u001b[38;5;241;43m=\u001b[39;49m\u001b[43mengine\u001b[49m\u001b[43m)\u001b[49m\n\u001b[0;32m    483\u001b[0m \u001b[38;5;28;01melif\u001b[39;00m engine \u001b[38;5;129;01mand\u001b[39;00m engine \u001b[38;5;241m!=\u001b[39m io\u001b[38;5;241m.\u001b[39mengine:\n\u001b[0;32m    484\u001b[0m     \u001b[38;5;28;01mraise\u001b[39;00m \u001b[38;5;167;01mValueError\u001b[39;00m(\n\u001b[0;32m    485\u001b[0m         \u001b[38;5;124m\"\u001b[39m\u001b[38;5;124mEngine should not be specified when passing \u001b[39m\u001b[38;5;124m\"\u001b[39m\n\u001b[0;32m    486\u001b[0m         \u001b[38;5;124m\"\u001b[39m\u001b[38;5;124man ExcelFile - ExcelFile already has the engine set\u001b[39m\u001b[38;5;124m\"\u001b[39m\n\u001b[0;32m    487\u001b[0m     )\n",
      "File \u001b[1;32mE:\\python\\lib\\site-packages\\pandas\\io\\excel\\_base.py:1652\u001b[0m, in \u001b[0;36mExcelFile.__init__\u001b[1;34m(self, path_or_buffer, engine, storage_options)\u001b[0m\n\u001b[0;32m   1650\u001b[0m     ext \u001b[38;5;241m=\u001b[39m \u001b[38;5;124m\"\u001b[39m\u001b[38;5;124mxls\u001b[39m\u001b[38;5;124m\"\u001b[39m\n\u001b[0;32m   1651\u001b[0m \u001b[38;5;28;01melse\u001b[39;00m:\n\u001b[1;32m-> 1652\u001b[0m     ext \u001b[38;5;241m=\u001b[39m \u001b[43minspect_excel_format\u001b[49m\u001b[43m(\u001b[49m\n\u001b[0;32m   1653\u001b[0m \u001b[43m        \u001b[49m\u001b[43mcontent_or_path\u001b[49m\u001b[38;5;241;43m=\u001b[39;49m\u001b[43mpath_or_buffer\u001b[49m\u001b[43m,\u001b[49m\u001b[43m \u001b[49m\u001b[43mstorage_options\u001b[49m\u001b[38;5;241;43m=\u001b[39;49m\u001b[43mstorage_options\u001b[49m\n\u001b[0;32m   1654\u001b[0m \u001b[43m    \u001b[49m\u001b[43m)\u001b[49m\n\u001b[0;32m   1655\u001b[0m     \u001b[38;5;28;01mif\u001b[39;00m ext \u001b[38;5;129;01mis\u001b[39;00m \u001b[38;5;28;01mNone\u001b[39;00m:\n\u001b[0;32m   1656\u001b[0m         \u001b[38;5;28;01mraise\u001b[39;00m \u001b[38;5;167;01mValueError\u001b[39;00m(\n\u001b[0;32m   1657\u001b[0m             \u001b[38;5;124m\"\u001b[39m\u001b[38;5;124mExcel file format cannot be determined, you must specify \u001b[39m\u001b[38;5;124m\"\u001b[39m\n\u001b[0;32m   1658\u001b[0m             \u001b[38;5;124m\"\u001b[39m\u001b[38;5;124man engine manually.\u001b[39m\u001b[38;5;124m\"\u001b[39m\n\u001b[0;32m   1659\u001b[0m         )\n",
      "File \u001b[1;32mE:\\python\\lib\\site-packages\\pandas\\io\\excel\\_base.py:1525\u001b[0m, in \u001b[0;36minspect_excel_format\u001b[1;34m(content_or_path, storage_options)\u001b[0m\n\u001b[0;32m   1522\u001b[0m \u001b[38;5;28;01mif\u001b[39;00m \u001b[38;5;28misinstance\u001b[39m(content_or_path, \u001b[38;5;28mbytes\u001b[39m):\n\u001b[0;32m   1523\u001b[0m     content_or_path \u001b[38;5;241m=\u001b[39m BytesIO(content_or_path)\n\u001b[1;32m-> 1525\u001b[0m \u001b[38;5;28;01mwith\u001b[39;00m \u001b[43mget_handle\u001b[49m\u001b[43m(\u001b[49m\n\u001b[0;32m   1526\u001b[0m \u001b[43m    \u001b[49m\u001b[43mcontent_or_path\u001b[49m\u001b[43m,\u001b[49m\u001b[43m \u001b[49m\u001b[38;5;124;43m\"\u001b[39;49m\u001b[38;5;124;43mrb\u001b[39;49m\u001b[38;5;124;43m\"\u001b[39;49m\u001b[43m,\u001b[49m\u001b[43m \u001b[49m\u001b[43mstorage_options\u001b[49m\u001b[38;5;241;43m=\u001b[39;49m\u001b[43mstorage_options\u001b[49m\u001b[43m,\u001b[49m\u001b[43m \u001b[49m\u001b[43mis_text\u001b[49m\u001b[38;5;241;43m=\u001b[39;49m\u001b[38;5;28;43;01mFalse\u001b[39;49;00m\n\u001b[0;32m   1527\u001b[0m \u001b[43m\u001b[49m\u001b[43m)\u001b[49m \u001b[38;5;28;01mas\u001b[39;00m handle:\n\u001b[0;32m   1528\u001b[0m     stream \u001b[38;5;241m=\u001b[39m handle\u001b[38;5;241m.\u001b[39mhandle\n\u001b[0;32m   1529\u001b[0m     stream\u001b[38;5;241m.\u001b[39mseek(\u001b[38;5;241m0\u001b[39m)\n",
      "File \u001b[1;32mE:\\python\\lib\\site-packages\\pandas\\io\\common.py:865\u001b[0m, in \u001b[0;36mget_handle\u001b[1;34m(path_or_buf, mode, encoding, compression, memory_map, is_text, errors, storage_options)\u001b[0m\n\u001b[0;32m    856\u001b[0m         handle \u001b[38;5;241m=\u001b[39m \u001b[38;5;28mopen\u001b[39m(\n\u001b[0;32m    857\u001b[0m             handle,\n\u001b[0;32m    858\u001b[0m             ioargs\u001b[38;5;241m.\u001b[39mmode,\n\u001b[1;32m   (...)\u001b[0m\n\u001b[0;32m    861\u001b[0m             newline\u001b[38;5;241m=\u001b[39m\u001b[38;5;124m\"\u001b[39m\u001b[38;5;124m\"\u001b[39m,\n\u001b[0;32m    862\u001b[0m         )\n\u001b[0;32m    863\u001b[0m     \u001b[38;5;28;01melse\u001b[39;00m:\n\u001b[0;32m    864\u001b[0m         \u001b[38;5;66;03m# Binary mode\u001b[39;00m\n\u001b[1;32m--> 865\u001b[0m         handle \u001b[38;5;241m=\u001b[39m \u001b[38;5;28;43mopen\u001b[39;49m\u001b[43m(\u001b[49m\u001b[43mhandle\u001b[49m\u001b[43m,\u001b[49m\u001b[43m \u001b[49m\u001b[43mioargs\u001b[49m\u001b[38;5;241;43m.\u001b[39;49m\u001b[43mmode\u001b[49m\u001b[43m)\u001b[49m\n\u001b[0;32m    866\u001b[0m     handles\u001b[38;5;241m.\u001b[39mappend(handle)\n\u001b[0;32m    868\u001b[0m \u001b[38;5;66;03m# Convert BytesIO or file objects passed with an encoding\u001b[39;00m\n",
      "\u001b[1;31mFileNotFoundError\u001b[0m: [Errno 2] No such file or directory: 'Kalyani_Balance_Sheet_November_2022.xlsx'"
     ]
    }
   ],
   "source": [
    "#loading datasets\n",
    "df_1 = pd.read_excel(\"Kalyani_Balance_Sheet_November_2022.xlsx\")\n",
    "df_2 = pd.read_excel(\"Kalyani_Balance_Sheet_December_2022.xlsx\")\n",
    "\n",
    "#merge datasets\n",
    "df_combine = pd.concat([df_1, df_2])"
   ]
  },
  {
   "cell_type": "code",
   "execution_count": null,
   "id": "2be41cb6",
   "metadata": {},
   "outputs": [],
   "source": [
    "#df_1\n",
    "#df_2\n",
    "df_combine"
   ]
  },
  {
   "cell_type": "code",
   "execution_count": null,
   "id": "362226b6",
   "metadata": {},
   "outputs": [],
   "source": [
    "df_combine = df_combine.iloc[:, 0:6]\n",
    "df_combine"
   ]
  },
  {
   "cell_type": "code",
   "execution_count": null,
   "id": "078df916",
   "metadata": {},
   "outputs": [],
   "source": [
    "df_combine.to_excel('YoshopsBalanceSheet_NovDec_2022.xlsx', index = False)"
   ]
  },
  {
   "cell_type": "code",
   "execution_count": null,
   "id": "b7706aaf",
   "metadata": {},
   "outputs": [],
   "source": [
    "new_df = pd.read_excel('YoshopsBalanceSheet_NovDec_2022.xlsx')\n",
    "new_df"
   ]
  },
  {
   "cell_type": "code",
   "execution_count": null,
   "id": "5861d2bb",
   "metadata": {},
   "outputs": [],
   "source": [
    "#import os\n",
    "#import shutil"
   ]
  },
  {
   "cell_type": "markdown",
   "id": "9ac87e34",
   "metadata": {},
   "source": [
    "### 2. Write a python program to shorting file in different folder means main folder containing 40 word file. Now after shorting create 4 child folder and store 10 file each folder."
   ]
  },
  {
   "cell_type": "code",
   "execution_count": null,
   "id": "89e613d2",
   "metadata": {},
   "outputs": [],
   "source": [
    "import os\n",
    "import shutil\n",
    "\n",
    "target_folder = r'/Users/Sagar/Yoshops Data Science Intern/Task_5_week_5/Task 5'+'\\\\'\n",
    "source_folder = r'/Users/Sagar/Yoshops Data Science Intern/Task_5_week_5'+'\\\\'\n",
    "\n",
    "for path,dir,files in os.walk(source_folder):\n",
    "    print(path)\n",
    "    print(files)"
   ]
  },
  {
   "cell_type": "code",
   "execution_count": null,
   "id": "60d7727c",
   "metadata": {},
   "outputs": [],
   "source": [
    "for path,dir,files in os.walk(source_folder):\n",
    "    if files:\n",
    "        for file in files:\n",
    "            if not os.path.isfile(target_folder + file):\n",
    "                os.rename(path + '\\\\' + file, target_folder + file)"
   ]
  },
  {
   "cell_type": "code",
   "execution_count": null,
   "id": "52f77148",
   "metadata": {},
   "outputs": [],
   "source": [
    "for path,dir,files in os.walk(target_folder):\n",
    "    print(path)\n",
    "    print(files)"
   ]
  },
  {
   "cell_type": "code",
   "execution_count": null,
   "id": "faf25422",
   "metadata": {},
   "outputs": [],
   "source": [
    "import os\n",
    "dir_name = '/Users/Sagar/Yoshops Data Science Intern/Task_5_week_5/Task 5'\n",
    "# Get list of all files in a given directory sorted by name\n",
    "list_of_files = sorted( filter( lambda x: os.path.isfile(os.path.join(dir_name, x)),\n",
    "                        os.listdir(dir_name) ) )\n",
    "for file_name in list_of_files:\n",
    "    print(file_name)"
   ]
  },
  {
   "cell_type": "code",
   "execution_count": null,
   "id": "89631497",
   "metadata": {},
   "outputs": [],
   "source": [
    "import os\n",
    "path = '/Users/Sagar/Yoshops Data Science Intern/Task_5_week_5/Task 5'\n",
    "for i in range(0,4):\n",
    "    os.chdir(path)\n",
    "    Newfolders = 'SubFolder'+str(i)\n",
    "    os.makedirs(Newfolders)"
   ]
  },
  {
   "cell_type": "code",
   "execution_count": null,
   "id": "5fbf368b",
   "metadata": {},
   "outputs": [],
   "source": [
    "i=0\n",
    "j=0\n",
    "k=0\n",
    "for i in range(0,4):\n",
    "    for j in range(0,10):\n",
    "        src = '/Users/Sagar/Yoshops Data Science Intern/Task_5_week_5/Task 5/'+list_of_files[k]\n",
    "        dst = '/Users/Sagar/Yoshops Data Science Intern/Task_5_week_5'+str(i)\n",
    "        shutil.copy2(src,dst)\n",
    "        k=k+1"
   ]
  },
  {
   "cell_type": "markdown",
   "id": "f71fd741",
   "metadata": {},
   "source": [
    "## 3. Write a python programm separate duplicate file"
   ]
  },
  {
   "cell_type": "code",
   "execution_count": null,
   "id": "37bb651e",
   "metadata": {},
   "outputs": [],
   "source": [
    "# Importing Libraries\n",
    "import os\n",
    "from pathlib import Path\n",
    "from filecmp import cmp\n",
    "  \n",
    "  \n",
    "# list of all documents\n",
    "DATA_DIR = Path('/Users/Sagar/Yoshops Data Science Intern/Task_5_week_5/Task 5/')\n",
    "files = sorted(os.listdir(DATA_DIR))\n",
    "  \n",
    "# List having the classes of documents\n",
    "# with the same content\n",
    "duplicateFiles = []\n",
    "  \n",
    "# comparison of the documents\n",
    "for file_x in files:\n",
    "  \n",
    "    if_dupl = False\n",
    "  \n",
    "    for class_ in duplicateFiles:\n",
    "        # Comparing files having same content using cmp()\n",
    "        # class_[0] represents a class having same content\n",
    "        if_dupl = cmp(\n",
    "            DATA_DIR / file_x,\n",
    "            DATA_DIR / class_[0],\n",
    "            shallow=False\n",
    "        )\n",
    "        if if_dupl:\n",
    "            class_.append(file_x)\n",
    "            break\n",
    "  \n",
    "    if not if_dupl:\n",
    "        duplicateFiles.append([file_x])\n",
    "  \n",
    "# Print results\n",
    "print(duplicateFiles)"
   ]
  },
  {
   "cell_type": "markdown",
   "id": "93df11a6",
   "metadata": {},
   "source": [
    "#### Check excel file and create sperate file and store duplicate data"
   ]
  },
  {
   "cell_type": "code",
   "execution_count": null,
   "id": "6d6c2a4e",
   "metadata": {},
   "outputs": [],
   "source": [
    "import pandas as pd\n",
    "df_master = pd.read_excel('/Users/Sagar/Yoshops Data Science Intern/Task_5_week_5/Task 5/Kalyani_Balance_Sheet_December_2022.xlsx')\n",
    "print(df_master)"
   ]
  },
  {
   "cell_type": "code",
   "execution_count": null,
   "id": "321c83d3",
   "metadata": {},
   "outputs": [],
   "source": [
    "# Selecting duplicate rows except first\n",
    "# occurrence based on all columns\n",
    "duplicate = df_master[df_master.duplicated()]\n",
    " \n",
    "print(\"Duplicate Rows :\")\n",
    " \n",
    "# Print the resultant Dataframe\n",
    "duplicate"
   ]
  },
  {
   "cell_type": "markdown",
   "id": "5d91cd4a",
   "metadata": {},
   "source": [
    "#### Sort files in a folder based on their size"
   ]
  },
  {
   "cell_type": "code",
   "execution_count": null,
   "id": "0ecdb689",
   "metadata": {},
   "outputs": [],
   "source": [
    "import os\n",
    "import shutil\n",
    "# The folder containing files.\n",
    "directory = '/Users/Sagar/Yoshops Data Science Intern/Task_5_week_5/Task 5'\n",
    "\n",
    "# Get all files.\n",
    "list = os.listdir(directory)\n",
    "\n",
    "# Loop and add files to list.\n",
    "pairs = []\n",
    "for file in list:\n",
    "\n",
    "    # Use join to get full file path.\n",
    "    location = os.path.join(directory, file)\n",
    "\n",
    "    # Get size and add to list of tuples.\n",
    "    size = os.path.getsize(location)\n",
    "    pairs.append((size,file))\n",
    "\n",
    "# Sort list of tuples by the first element, size.\n",
    "pairs.sort(key=lambda s: s[0])\n",
    "\n",
    "i=0\n",
    "# Display pairs.\n",
    "for pair in pairs:\n",
    "    #src = 'F:/Yoshops/task_5/task_5/source/'+pair[1]\n",
    "    #dst = 'F:/Yoshops/task_5/task_5/destination/size'+str(i)\n",
    "    #shutil.copy2(src,dst)\n",
    "    \n",
    "    print(pair)\n",
    "    i=i+1\n",
    "\n",
    "path = r'/Users/Sagar/Yoshops Data Science Intern/Task_5_week_5/Task 5'\n",
    "for j in range(0,i):\n",
    "    os.chdir(path)\n",
    "    Newfolders = 'size'+str(j)\n",
    "    os.makedirs(Newfolders)"
   ]
  },
  {
   "cell_type": "code",
   "execution_count": null,
   "id": "e8bb16ac",
   "metadata": {},
   "outputs": [],
   "source": [
    "i=0\n",
    "# Display pairs.\n",
    "for pair in pairs:\n",
    "    src = r'/Users/Sagar/Yoshops Data Science Intern/Task_5_week_5'+pair[1]\n",
    "    dst = r'/Users/Sagar/Yoshops Data Science Intern/Task_5_week_5/Task 5'+str(i)\n",
    "    shutil.copy2(src,dst)\n",
    "    i=i+1"
   ]
  },
  {
   "cell_type": "code",
   "execution_count": null,
   "id": "98cbe63c",
   "metadata": {},
   "outputs": [],
   "source": []
  }
 ],
 "metadata": {
  "kernelspec": {
   "display_name": "Python 3 (ipykernel)",
   "language": "python",
   "name": "python3"
  },
  "language_info": {
   "codemirror_mode": {
    "name": "ipython",
    "version": 3
   },
   "file_extension": ".py",
   "mimetype": "text/x-python",
   "name": "python",
   "nbconvert_exporter": "python",
   "pygments_lexer": "ipython3",
   "version": "3.9.15"
  }
 },
 "nbformat": 4,
 "nbformat_minor": 5
}
